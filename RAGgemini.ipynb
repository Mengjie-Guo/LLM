{
  "cells": [
    {
      "cell_type": "code",
      "source": [
        "# install vertex ai and genai\n",
        "%pip install --upgrade --quiet google-cloud-aiplatform google-genai"
      ],
      "metadata": {
        "colab": {
          "base_uri": "https://localhost:8080/"
        },
        "id": "fCEIjP3qnWKa",
        "outputId": "746f241c-3d8c-4143-b1e8-b61005923a9d"
      },
      "id": "fCEIjP3qnWKa",
      "execution_count": null,
      "outputs": [
        {
          "output_type": "stream",
          "name": "stdout",
          "text": [
            "\u001b[?25l   \u001b[90m━━━━━━━━━━━━━━━━━━━━━━━━━━━━━━━━━━━━━━━━\u001b[0m \u001b[32m0.0/7.6 MB\u001b[0m \u001b[31m?\u001b[0m eta \u001b[36m-:--:--\u001b[0m\r\u001b[2K   \u001b[91m━━━━━━━━━━━━━━━━━━━━━━\u001b[0m\u001b[90m╺\u001b[0m\u001b[90m━━━━━━━━━━━━━━━━━\u001b[0m \u001b[32m4.2/7.6 MB\u001b[0m \u001b[31m125.2 MB/s\u001b[0m eta \u001b[36m0:00:01\u001b[0m\r\u001b[2K   \u001b[91m━━━━━━━━━━━━━━━━━━━━━━━━━━━━━━━━━━━━━━━\u001b[0m\u001b[91m╸\u001b[0m \u001b[32m7.6/7.6 MB\u001b[0m \u001b[31m123.1 MB/s\u001b[0m eta \u001b[36m0:00:01\u001b[0m\r\u001b[2K   \u001b[91m━━━━━━━━━━━━━━━━━━━━━━━━━━━━━━━━━━━━━━━\u001b[0m\u001b[91m╸\u001b[0m \u001b[32m7.6/7.6 MB\u001b[0m \u001b[31m123.1 MB/s\u001b[0m eta \u001b[36m0:00:01\u001b[0m\r\u001b[2K   \u001b[90m━━━━━━━━━━━━━━━━━━━━━━━━━━━━━━━━━━━━━━━━\u001b[0m \u001b[32m7.6/7.6 MB\u001b[0m \u001b[31m70.0 MB/s\u001b[0m eta \u001b[36m0:00:00\u001b[0m\n",
            "\u001b[?25h"
          ]
        }
      ]
    },
    {
      "cell_type": "code",
      "source": [
        "import os\n",
        "\n",
        "from google import genai\n",
        "import vertexai\n",
        "\n",
        "PROJECT_ID = \"genai-455208\"  #[your-project-id] to use vertex ai"
      ],
      "metadata": {
        "id": "Y_vxnDMjnkER"
      },
      "id": "Y_vxnDMjnkER",
      "execution_count": null,
      "outputs": []
    },
    {
      "cell_type": "code",
      "source": [
        "# auth for colab, if local refer https://cloud.google.com/docs/authentication/set-up-adc-local-dev-environment\n",
        "import sys\n",
        "\n",
        "if \"google.colab\" in sys.modules:\n",
        "    from google.colab import auth\n",
        "\n",
        "    auth.authenticate_user()"
      ],
      "metadata": {
        "id": "Gl4JQ9BJuJgO"
      },
      "id": "Gl4JQ9BJuJgO",
      "execution_count": null,
      "outputs": []
    },
    {
      "cell_type": "code",
      "source": [
        "LOCATION = os.environ.get(\"GOOGLE_CLOUD_REGION\", \"us-central1\")\n",
        "\n",
        "vertexai.init(project=PROJECT_ID, location=LOCATION)\n",
        "client = genai.Client(vertexai=True, project=PROJECT_ID, location=LOCATION)"
      ],
      "metadata": {
        "id": "_AaWzuZ3tsD3"
      },
      "id": "_AaWzuZ3tsD3",
      "execution_count": null,
      "outputs": []
    },
    {
      "cell_type": "code",
      "source": [
        "from google.genai.types import GenerateContentConfig, Retrieval, Tool, VertexRagStore\n",
        "from vertexai import rag"
      ],
      "metadata": {
        "id": "lo3Xvx6yuBZe"
      },
      "id": "lo3Xvx6yuBZe",
      "execution_count": null,
      "outputs": []
    },
    {
      "cell_type": "code",
      "source": [
        "EMBEDDING_MODEL = \"publishers/google/models/text-embedding-005\"\n",
        "\n",
        "rag_corpus = rag.create_corpus(\n",
        "    display_name=\"Chinese-rag-corpus\",\n",
        "    backend_config=rag.RagVectorDbConfig(\n",
        "        rag_embedding_model_config=rag.RagEmbeddingModelConfig(\n",
        "            vertex_prediction_endpoint=rag.VertexPredictionEndpoint(\n",
        "                publisher_model=EMBEDDING_MODEL\n",
        "            )\n",
        "        )\n",
        "    ),\n",
        ")"
      ],
      "metadata": {
        "id": "3SSv__WruZ25"
      },
      "id": "3SSv__WruZ25",
      "execution_count": null,
      "outputs": []
    },
    {
      "cell_type": "code",
      "source": [
        "rag.list_corpora()"
      ],
      "metadata": {
        "colab": {
          "base_uri": "https://localhost:8080/"
        },
        "id": "GTfQQMytukLc",
        "outputId": "228d5e56-b79a-48ec-8a9c-e4b48845790c"
      },
      "id": "GTfQQMytukLc",
      "execution_count": null,
      "outputs": [
        {
          "output_type": "execute_result",
          "data": {
            "text/plain": [
              "ListRagCorporaPager<rag_corpora {\n",
              "  name: \"projects/genai-455208/locations/us-central1/ragCorpora/2305843009213693952\"\n",
              "  display_name: \"my-rag-corpus\"\n",
              "  create_time {\n",
              "    seconds: 1743241187\n",
              "    nanos: 886217000\n",
              "  }\n",
              "  update_time {\n",
              "    seconds: 1743241187\n",
              "    nanos: 886217000\n",
              "  }\n",
              "  corpus_status {\n",
              "    state: ACTIVE\n",
              "  }\n",
              "  vector_db_config {\n",
              "    rag_managed_db {\n",
              "      knn {\n",
              "      }\n",
              "    }\n",
              "    rag_embedding_model_config {\n",
              "      vertex_prediction_endpoint {\n",
              "        endpoint: \"projects/genai-455208/locations/us-central1/publishers/google/models/text-embedding-005\"\n",
              "      }\n",
              "    }\n",
              "  }\n",
              "}\n",
              "rag_corpora {\n",
              "  name: \"projects/genai-455208/locations/us-central1/ragCorpora/6917529027641081856\"\n",
              "  display_name: \"my-rag-corpus\"\n",
              "  create_time {\n",
              "    seconds: 1743241230\n",
              "    nanos: 37983000\n",
              "  }\n",
              "  update_time {\n",
              "    seconds: 1743241230\n",
              "    nanos: 37983000\n",
              "  }\n",
              "  corpus_status {\n",
              "    state: ACTIVE\n",
              "  }\n",
              "  vector_db_config {\n",
              "    rag_managed_db {\n",
              "      knn {\n",
              "      }\n",
              "    }\n",
              "    rag_embedding_model_config {\n",
              "      vertex_prediction_endpoint {\n",
              "        endpoint: \"projects/genai-455208/locations/us-central1/publishers/google/models/text-embedding-005\"\n",
              "      }\n",
              "    }\n",
              "  }\n",
              "}\n",
              "rag_corpora {\n",
              "  name: \"projects/genai-455208/locations/us-central1/ragCorpora/3379951520341557248\"\n",
              "  display_name: \"my-rag-corpus\"\n",
              "  create_time {\n",
              "    seconds: 1743241713\n",
              "    nanos: 467685000\n",
              "  }\n",
              "  update_time {\n",
              "    seconds: 1743241713\n",
              "    nanos: 467685000\n",
              "  }\n",
              "  corpus_status {\n",
              "    state: ACTIVE\n",
              "  }\n",
              "  vector_db_config {\n",
              "    rag_managed_db {\n",
              "      knn {\n",
              "      }\n",
              "    }\n",
              "    rag_embedding_model_config {\n",
              "      vertex_prediction_endpoint {\n",
              "        endpoint: \"projects/genai-455208/locations/us-central1/publishers/google/models/text-embedding-005\"\n",
              "      }\n",
              "    }\n",
              "  }\n",
              "}\n",
              "rag_corpora {\n",
              "  name: \"projects/genai-455208/locations/us-central1/ragCorpora/2842897264777625600\"\n",
              "  display_name: \"Chinese-rag-corpus\"\n",
              "  create_time {\n",
              "    seconds: 1748416203\n",
              "    nanos: 658105000\n",
              "  }\n",
              "  update_time {\n",
              "    seconds: 1748416203\n",
              "    nanos: 658105000\n",
              "  }\n",
              "  corpus_status {\n",
              "    state: ACTIVE\n",
              "  }\n",
              "  vector_db_config {\n",
              "    rag_managed_db {\n",
              "      knn {\n",
              "      }\n",
              "    }\n",
              "    rag_embedding_model_config {\n",
              "      vertex_prediction_endpoint {\n",
              "        endpoint: \"projects/genai-455208/locations/us-central1/publishers/google/models/text-embedding-005\"\n",
              "      }\n",
              "    }\n",
              "  }\n",
              "}\n",
              ">"
            ]
          },
          "metadata": {},
          "execution_count": 9
        }
      ]
    },
    {
      "cell_type": "code",
      "source": [
        "%%writefile Chinese_text.md\n",
        "\n",
        "我们两个月前在公司的种地活动中申请了一块地，取名为\"红果与菜\"。 我们整理土地后在大爷的指导下种上了豇豆，辣椒和空心菜。\n",
        "但是经过一个月只长出一颗辣椒，其他的都是野草比如铁苋菜和凹头苋。最近我们把野草都拔掉，种上了蓝莓和胡萝卜。蓝莓是买的树，已经开花了。\n",
        "胡萝卜也发了小芽。经研究发现野草是旁边地里种子被风刮来的，所以我们合力把旁边地也清理了一番，种上了黄瓜茄子空心菜等，现在也已经发芽了。\n",
        "勤劳的农民每天都去浇水，当然下雨天除外。期待蔬菜长成和蓝莓果成熟。"
      ],
      "metadata": {
        "colab": {
          "base_uri": "https://localhost:8080/"
        },
        "id": "kVmh7P3nun-Y",
        "outputId": "84819034-a61f-4fd7-a4a1-4434dbe4e90a"
      },
      "id": "kVmh7P3nun-Y",
      "execution_count": null,
      "outputs": [
        {
          "output_type": "stream",
          "name": "stdout",
          "text": [
            "Overwriting Chinese_text.md\n"
          ]
        }
      ]
    },
    {
      "cell_type": "code",
      "source": [
        "rag_file = rag.upload_file(\n",
        "    corpus_name=rag_corpus.name,\n",
        "    path=\"Chinese_text.md\",\n",
        "    display_name=\"Chinese_text\",\n",
        "    description=\"description for our field\",\n",
        ")"
      ],
      "metadata": {
        "id": "fy9Dq_IWured"
      },
      "id": "fy9Dq_IWured",
      "execution_count": null,
      "outputs": []
    },
    {
      "cell_type": "code",
      "source": [
        "# Direct context retrieval\n",
        "response = rag.retrieval_query(\n",
        "    rag_resources=[\n",
        "        rag.RagResource(\n",
        "            rag_corpus=rag_corpus.name,\n",
        "            # Optional: supply IDs from `rag.list_files()`.\n",
        "            # rag_file_ids=[\"rag-file-1\", \"rag-file-2\", ...],\n",
        "        )\n",
        "    ],\n",
        "    rag_retrieval_config=rag.RagRetrievalConfig(\n",
        "        top_k=5,  # Optional\n",
        "        filter=rag.Filter(\n",
        "            vector_distance_threshold=0.5,  # Optional\n",
        "        ),\n",
        "    ),\n",
        "    text=\"红果与菜种了什么\",\n",
        ")\n",
        "\n",
        "print(response)"
      ],
      "metadata": {
        "colab": {
          "base_uri": "https://localhost:8080/"
        },
        "id": "3oaXa9Nnxf_3",
        "outputId": "df105a07-551a-4da2-a7f7-e11f2fddc25b"
      },
      "id": "3oaXa9Nnxf_3",
      "execution_count": null,
      "outputs": [
        {
          "output_type": "stream",
          "name": "stdout",
          "text": [
            "contexts {\n",
            "  contexts {\n",
            "    source_uri: \"Chinese_text\"\n",
            "    text: \"我们两个月前在公司的种地活动中申请了一块地，取名为\\\"红果与菜\\\"。 我们整理土地后在大爷的指导下种上了豇豆，辣椒和空心菜。\\n但是经过一个月只长出一颗辣椒，其他的都是野草比如铁苋菜和凹头苋。最近我们把野草都拔掉，种上了蓝莓和胡萝卜。蓝莓是买的树，已经开花了。\\n胡萝卜也发了小芽。经研究发现野草是旁边地里种子被风刮来的，所以我们合力把旁边地也清理了一番，种上了黄瓜茄子空心菜等，现在也已经发芽了。\\n勤劳的农民每天都去浇水，当然下雨天除外。期待蔬菜长成和蓝莓果成熟。\"\n",
            "    source_display_name: \"Chinese_text\"\n",
            "    score: 0.45096697957826348\n",
            "    chunk {\n",
            "      text: \"我们两个月前在公司的种地活动中申请了一块地，取名为\\\"红果与菜\\\"。 我们整理土地后在大爷的指导下种上了豇豆，辣椒和空心菜。\\n但是经过一个月只长出一颗辣椒，其他的都是野草比如铁苋菜和凹头苋。最近我们把野草都拔掉，种上了蓝莓和胡萝卜。蓝莓是买的树，已经开花了。\\n胡萝卜也发了小芽。经研究发现野草是旁边地里种子被风刮来的，所以我们合力把旁边地也清理了一番，种上了黄瓜茄子空心菜等，现在也已经发芽了。\\n勤劳的农民每天都去浇水，当然下雨天除外。期待蔬菜长成和蓝莓果成熟。\"\n",
            "    }\n",
            "  }\n",
            "}\n",
            "\n"
          ]
        }
      ]
    },
    {
      "cell_type": "code",
      "source": [
        "# Create a tool for the RAG Corpus\n",
        "rag_retrieval_tool = Tool(\n",
        "    retrieval=Retrieval(\n",
        "        vertex_rag_store=VertexRagStore(\n",
        "            rag_corpora=[rag_corpus.name],\n",
        "            similarity_top_k=10,\n",
        "            vector_distance_threshold=0.7,\n",
        "        )\n",
        "    )\n",
        ")\n"
      ],
      "metadata": {
        "id": "KdJdpxERyGIf"
      },
      "id": "KdJdpxERyGIf",
      "execution_count": null,
      "outputs": []
    },
    {
      "cell_type": "code",
      "source": [
        "\n",
        "MODEL_ID = \"gemini-2.0-flash-001\"\n",
        "\n",
        "response = client.models.generate_content(\n",
        "    model=MODEL_ID,\n",
        "    contents=\"红果与菜种了什么\",\n",
        "    config=GenerateContentConfig(tools=[rag_retrieval_tool]),\n",
        ")\n",
        "\n",
        "display(response.text)"
      ],
      "metadata": {
        "colab": {
          "base_uri": "https://localhost:8080/",
          "height": 35
        },
        "id": "IIpL_OoVySVm",
        "outputId": "d575d55d-24c2-4c03-c8d9-59b7dcc429ca"
      },
      "id": "IIpL_OoVySVm",
      "execution_count": null,
      "outputs": [
        {
          "output_type": "display_data",
          "data": {
            "text/plain": [
              "'“红果与菜”种了豇豆、辣椒、空心菜、蓝莓和胡萝卜。最近他们也在清理过的旁边地上种了黄瓜、茄子和空心菜。\\n'"
            ],
            "application/vnd.google.colaboratory.intrinsic+json": {
              "type": "string"
            }
          },
          "metadata": {}
        }
      ]
    }
  ],
  "metadata": {
    "colab": {
      "provenance": []
    },
    "language_info": {
      "name": "python"
    },
    "kernelspec": {
      "name": "python3",
      "display_name": "Python 3"
    }
  },
  "nbformat": 4,
  "nbformat_minor": 5
}